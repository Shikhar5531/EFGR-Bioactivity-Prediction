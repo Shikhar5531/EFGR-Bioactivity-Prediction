{
  "nbformat": 4,
  "nbformat_minor": 0,
  "metadata": {
    "colab": {
      "provenance": []
    },
    "kernelspec": {
      "name": "python3",
      "display_name": "Python 3"
    },
    "language_info": {
      "name": "python"
    }
  },
  "cells": [
    {
      "cell_type": "markdown",
      "source": [
        "#🔬 **Bioactivity Classification of EGFR Inhibitors Using Machine Learning**\n",
        "\n",
        "#Introduction\n",
        "\n",
        "In the evolving landscape of drug discovery, one of the most pressing challenges is the time and cost associated with identifying potential drug candidates. Traditional methods often involve years of laboratory work, extensive biological screening, and a high attrition rate. To accelerate this pipeline, computer-aided drug discovery (CADD) has emerged as a vital strategy, enabling researchers to use data-driven methods to prioritize and evaluate chemical compounds before experimental validation.\n",
        "\n",
        "Within CADD, machine learning (ML) plays a central role, learning patterns from historical bioactivity data to predict the potential of unknown molecules. This project applies ML to tackle a fundamental problem in cheminformatics: predicting whether a compound is likely to be biologically active against a specific therapeutic target.\n",
        "\n",
        "My focus is the Epidermal Growth Factor Receptor (EGFR), a protein frequently overexpressed or mutated in cancers. I aim to classify small molecules as either active or inactive EGFR inhibitors, using curated chemical and bioactivity data from the ChEMBL database.\n",
        "\n",
        "#What is EGFR?\n",
        "\n",
        "EGFR (Epidermal Growth Factor Receptor) is a receptor tyrosine kinase involved in the regulation of cell division, survival, and proliferation. Genetic mutations or dysregulation of EGFR signaling are implicated in various cancers, notably non-small cell lung cancer, glioblastoma, and colorectal cancer. EGFR is a validated drug target, and several small-molecule inhibitors (e.g., Gefitinib, Erlotinib) have been approved for cancer therapy.\n",
        "\n",
        "Identifying new EGFR inhibitors can aid in the development of targeted cancer treatments and reduce off-target effects through rational compound design.\n",
        "\n",
        "#What is ChEMBL?\n",
        "\n",
        "The ChEMBL database is an open-access bioactivity resource curated by the European Bioinformatics Institute (EMBL-EBI). It provides detailed records of drug-like small molecules, their biological assay results, and associated molecular targets.\n",
        "\n",
        "#As of ChEMBL version 33 (March 2025), the database contains:\n",
        "\n",
        "1) 2.3+ million unique compounds\n",
        "\n",
        "2) Bioactivity data from 82,000+ scientific publications\n",
        "\n",
        "3) Results from 1.3 million bioassays\n",
        "\n",
        "4) Information covering 14,000 molecular targets, 1,900 cell lines, and 34,500 disease indications\n",
        "\n",
        "5) Its structured format makes it ideal for applying machine learning to real-world bioactivity prediction problems.\n",
        "\n",
        "#Project Aim\n",
        "\n",
        "This project aims to develop an ML-based classification pipeline for predicting the EGFR inhibitory activity of chemical compounds. The specific objectives include:\n",
        "\n",
        "1) Preprocessing the ChEMBL-derived dataset by cleaning, deduplicating, and standardizing chemical entries.\n",
        "\n",
        "2) Generating molecular fingerprints (Morgan/ECFP4) and physicochemical descriptors using RDKit.\n",
        "\n",
        "3) Labeling compounds as active or inactive based on pIC50 thresholds.\n",
        "\n",
        "4) Training and evaluating classification models to predict bioactivity.\n",
        "\n",
        "5) Analyzing feature contributions to understand molecular substructures associated with inhibition.\n",
        "\n",
        "By building a robust classification model, this project demonstrates how machine learning can assist in early-stage drug screening, enabling researchers to filter large libraries of compounds for further testing."
      ],
      "metadata": {
        "id": "hykEc7uxrv3Y"
      }
    },
    {
      "cell_type": "markdown",
      "source": [
        "#**Installing Libraries**"
      ],
      "metadata": {
        "id": "-uPTs25ntJET"
      }
    },
    {
      "cell_type": "markdown",
      "source": [
        "Installing the ChEMBL web service package so that I can retrieve bioactivity data from the ChEMBL Database."
      ],
      "metadata": {
        "id": "5KJ64paetXTP"
      }
    },
    {
      "cell_type": "code",
      "execution_count": null,
      "metadata": {
        "colab": {
          "base_uri": "https://localhost:8080/"
        },
        "id": "-nwrMOYYyPGn",
        "outputId": "d3215ed4-133e-44ad-d95f-fbe1fd3cc35a"
      },
      "outputs": [
        {
          "output_type": "stream",
          "name": "stdout",
          "text": [
            "Collecting chembl_webresource_client\n",
            "  Downloading chembl_webresource_client-0.10.9-py3-none-any.whl.metadata (1.4 kB)\n",
            "Requirement already satisfied: urllib3 in /usr/local/lib/python3.11/dist-packages (from chembl_webresource_client) (2.4.0)\n",
            "Requirement already satisfied: requests>=2.18.4 in /usr/local/lib/python3.11/dist-packages (from chembl_webresource_client) (2.32.3)\n",
            "Collecting requests-cache~=1.2 (from chembl_webresource_client)\n",
            "  Downloading requests_cache-1.2.1-py3-none-any.whl.metadata (9.9 kB)\n",
            "Requirement already satisfied: easydict in /usr/local/lib/python3.11/dist-packages (from chembl_webresource_client) (1.13)\n",
            "Requirement already satisfied: charset-normalizer<4,>=2 in /usr/local/lib/python3.11/dist-packages (from requests>=2.18.4->chembl_webresource_client) (3.4.2)\n",
            "Requirement already satisfied: idna<4,>=2.5 in /usr/local/lib/python3.11/dist-packages (from requests>=2.18.4->chembl_webresource_client) (3.10)\n",
            "Requirement already satisfied: certifi>=2017.4.17 in /usr/local/lib/python3.11/dist-packages (from requests>=2.18.4->chembl_webresource_client) (2025.4.26)\n",
            "Requirement already satisfied: attrs>=21.2 in /usr/local/lib/python3.11/dist-packages (from requests-cache~=1.2->chembl_webresource_client) (25.3.0)\n",
            "Collecting cattrs>=22.2 (from requests-cache~=1.2->chembl_webresource_client)\n",
            "  Downloading cattrs-25.1.1-py3-none-any.whl.metadata (8.4 kB)\n",
            "Requirement already satisfied: platformdirs>=2.5 in /usr/local/lib/python3.11/dist-packages (from requests-cache~=1.2->chembl_webresource_client) (4.3.8)\n",
            "Collecting url-normalize>=1.4 (from requests-cache~=1.2->chembl_webresource_client)\n",
            "  Downloading url_normalize-2.2.1-py3-none-any.whl.metadata (5.6 kB)\n",
            "Requirement already satisfied: typing-extensions>=4.12.2 in /usr/local/lib/python3.11/dist-packages (from cattrs>=22.2->requests-cache~=1.2->chembl_webresource_client) (4.14.0)\n",
            "Downloading chembl_webresource_client-0.10.9-py3-none-any.whl (55 kB)\n",
            "\u001b[2K   \u001b[90m━━━━━━━━━━━━━━━━━━━━━━━━━━━━━━━━━━━━━━━━\u001b[0m \u001b[32m55.2/55.2 kB\u001b[0m \u001b[31m4.4 MB/s\u001b[0m eta \u001b[36m0:00:00\u001b[0m\n",
            "\u001b[?25hDownloading requests_cache-1.2.1-py3-none-any.whl (61 kB)\n",
            "\u001b[2K   \u001b[90m━━━━━━━━━━━━━━━━━━━━━━━━━━━━━━━━━━━━━━━━\u001b[0m \u001b[32m61.4/61.4 kB\u001b[0m \u001b[31m5.0 MB/s\u001b[0m eta \u001b[36m0:00:00\u001b[0m\n",
            "\u001b[?25hDownloading cattrs-25.1.1-py3-none-any.whl (69 kB)\n",
            "\u001b[2K   \u001b[90m━━━━━━━━━━━━━━━━━━━━━━━━━━━━━━━━━━━━━━━━\u001b[0m \u001b[32m69.4/69.4 kB\u001b[0m \u001b[31m6.0 MB/s\u001b[0m eta \u001b[36m0:00:00\u001b[0m\n",
            "\u001b[?25hDownloading url_normalize-2.2.1-py3-none-any.whl (14 kB)\n",
            "Installing collected packages: url-normalize, cattrs, requests-cache, chembl_webresource_client\n",
            "Successfully installed cattrs-25.1.1 chembl_webresource_client-0.10.9 requests-cache-1.2.1 url-normalize-2.2.1\n"
          ]
        }
      ],
      "source": [
        "! pip install chembl_webresource_client"
      ]
    },
    {
      "cell_type": "markdown",
      "source": [
        "#**Importing Libraries**"
      ],
      "metadata": {
        "id": "uSWkQ7Eftin2"
      }
    },
    {
      "cell_type": "code",
      "source": [
        "import pandas as pd\n",
        "from chembl_webresource_client.new_client import new_client"
      ],
      "metadata": {
        "id": "c3i8olJJynTE"
      },
      "execution_count": null,
      "outputs": []
    },
    {
      "cell_type": "markdown",
      "source": [
        "#**Searching for Target Protein (EFGR)**"
      ],
      "metadata": {
        "id": "o0OElBDBtpU-"
      }
    },
    {
      "cell_type": "code",
      "source": [
        "targets = new_client.target.filter(\n",
        "    target_components__accession=\"P00533\",\n",
        "    target_type=\"SINGLE PROTEIN\",\n",
        "    organism=\"Homo sapiens\"\n",
        ")\n",
        "\n",
        "df = pd.DataFrame.from_records(targets)\n",
        "print(df[['target_chembl_id', 'pref_name', 'target_type', 'organism']])"
      ],
      "metadata": {
        "colab": {
          "base_uri": "https://localhost:8080/"
        },
        "id": "DPq0EQ2y3Bhu",
        "outputId": "8045cc30-af16-42c1-fd6d-5294c14b24d4"
      },
      "execution_count": null,
      "outputs": [
        {
          "output_type": "stream",
          "name": "stdout",
          "text": [
            "  target_chembl_id                               pref_name     target_type  \\\n",
            "0        CHEMBL203  Epidermal growth factor receptor erbB1  SINGLE PROTEIN   \n",
            "1        CHEMBL203  Epidermal growth factor receptor erbB1  SINGLE PROTEIN   \n",
            "\n",
            "       organism  \n",
            "0  Homo sapiens  \n",
            "1  Homo sapiens  \n"
          ]
        }
      ]
    },
    {
      "cell_type": "markdown",
      "source": [
        "This shows that the erbB1 protein is present in the database. Now I just have to extract the data."
      ],
      "metadata": {
        "id": "TgCv_nDFt6il"
      }
    },
    {
      "cell_type": "markdown",
      "source": [
        "#**Dataset Acquisition from ChEMBL**\n",
        "\n",
        "To build a meaningful classification model, I needed a reliable and high-quality dataset of compounds with experimentally measured activity values against the target of interest — the Epidermal Growth Factor Receptor (EGFR).\n",
        "\n",
        "The following code queries the ChEMBL database via its Python client to fetch compounds tested against EGFR using a well-defined and reproducible filtering strategy:"
      ],
      "metadata": {
        "id": "-FrS_iY1uL64"
      }
    },
    {
      "cell_type": "code",
      "source": [
        "chembl_id = \"CHEMBL203\"\n",
        "\n",
        "activity = new_client.activity.filter(\n",
        "    target_chembl_id=chembl_id,\n",
        "    standard_type=\"IC50\",\n",
        "    relation=\"=\",\n",
        "    assay_type=\"B\"\n",
        ").only(\"molecule_chembl_id\", \"standard_value\", \"standard_units\")\n",
        "\n",
        "data = []\n",
        "for i, rec in enumerate(activity):\n",
        "    if i >= 2000:\n",
        "        break\n",
        "    data.append(rec)\n",
        "\n",
        "df = pd.DataFrame(data)\n",
        "print(\"Loaded rows:\", len(df))\n",
        "df.head()"
      ],
      "metadata": {
        "colab": {
          "base_uri": "https://localhost:8080/",
          "height": 224
        },
        "id": "2Q_DbAG_3hbB",
        "outputId": "7e8378ac-24fa-48ed-fba2-a11edca55a8b"
      },
      "execution_count": null,
      "outputs": [
        {
          "output_type": "stream",
          "name": "stdout",
          "text": [
            "Loaded rows: 2000\n"
          ]
        },
        {
          "output_type": "execute_result",
          "data": {
            "text/plain": [
              "  molecule_chembl_id standard_units standard_value units   value\n",
              "0        CHEMBL68920             nM           41.0    uM   0.041\n",
              "1        CHEMBL69960             nM          170.0    uM    0.17\n",
              "2       CHEMBL137635             nM         9300.0    uM     9.3\n",
              "3       CHEMBL306988             nM       500000.0    uM   500.0\n",
              "4        CHEMBL66879             nM      3000000.0    uM  3000.0"
            ],
            "text/html": [
              "\n",
              "  <div id=\"df-200b0d14-7fc5-40dc-a946-cbedcfdb2511\" class=\"colab-df-container\">\n",
              "    <div>\n",
              "<style scoped>\n",
              "    .dataframe tbody tr th:only-of-type {\n",
              "        vertical-align: middle;\n",
              "    }\n",
              "\n",
              "    .dataframe tbody tr th {\n",
              "        vertical-align: top;\n",
              "    }\n",
              "\n",
              "    .dataframe thead th {\n",
              "        text-align: right;\n",
              "    }\n",
              "</style>\n",
              "<table border=\"1\" class=\"dataframe\">\n",
              "  <thead>\n",
              "    <tr style=\"text-align: right;\">\n",
              "      <th></th>\n",
              "      <th>molecule_chembl_id</th>\n",
              "      <th>standard_units</th>\n",
              "      <th>standard_value</th>\n",
              "      <th>units</th>\n",
              "      <th>value</th>\n",
              "    </tr>\n",
              "  </thead>\n",
              "  <tbody>\n",
              "    <tr>\n",
              "      <th>0</th>\n",
              "      <td>CHEMBL68920</td>\n",
              "      <td>nM</td>\n",
              "      <td>41.0</td>\n",
              "      <td>uM</td>\n",
              "      <td>0.041</td>\n",
              "    </tr>\n",
              "    <tr>\n",
              "      <th>1</th>\n",
              "      <td>CHEMBL69960</td>\n",
              "      <td>nM</td>\n",
              "      <td>170.0</td>\n",
              "      <td>uM</td>\n",
              "      <td>0.17</td>\n",
              "    </tr>\n",
              "    <tr>\n",
              "      <th>2</th>\n",
              "      <td>CHEMBL137635</td>\n",
              "      <td>nM</td>\n",
              "      <td>9300.0</td>\n",
              "      <td>uM</td>\n",
              "      <td>9.3</td>\n",
              "    </tr>\n",
              "    <tr>\n",
              "      <th>3</th>\n",
              "      <td>CHEMBL306988</td>\n",
              "      <td>nM</td>\n",
              "      <td>500000.0</td>\n",
              "      <td>uM</td>\n",
              "      <td>500.0</td>\n",
              "    </tr>\n",
              "    <tr>\n",
              "      <th>4</th>\n",
              "      <td>CHEMBL66879</td>\n",
              "      <td>nM</td>\n",
              "      <td>3000000.0</td>\n",
              "      <td>uM</td>\n",
              "      <td>3000.0</td>\n",
              "    </tr>\n",
              "  </tbody>\n",
              "</table>\n",
              "</div>\n",
              "    <div class=\"colab-df-buttons\">\n",
              "\n",
              "  <div class=\"colab-df-container\">\n",
              "    <button class=\"colab-df-convert\" onclick=\"convertToInteractive('df-200b0d14-7fc5-40dc-a946-cbedcfdb2511')\"\n",
              "            title=\"Convert this dataframe to an interactive table.\"\n",
              "            style=\"display:none;\">\n",
              "\n",
              "  <svg xmlns=\"http://www.w3.org/2000/svg\" height=\"24px\" viewBox=\"0 -960 960 960\">\n",
              "    <path d=\"M120-120v-720h720v720H120Zm60-500h600v-160H180v160Zm220 220h160v-160H400v160Zm0 220h160v-160H400v160ZM180-400h160v-160H180v160Zm440 0h160v-160H620v160ZM180-180h160v-160H180v160Zm440 0h160v-160H620v160Z\"/>\n",
              "  </svg>\n",
              "    </button>\n",
              "\n",
              "  <style>\n",
              "    .colab-df-container {\n",
              "      display:flex;\n",
              "      gap: 12px;\n",
              "    }\n",
              "\n",
              "    .colab-df-convert {\n",
              "      background-color: #E8F0FE;\n",
              "      border: none;\n",
              "      border-radius: 50%;\n",
              "      cursor: pointer;\n",
              "      display: none;\n",
              "      fill: #1967D2;\n",
              "      height: 32px;\n",
              "      padding: 0 0 0 0;\n",
              "      width: 32px;\n",
              "    }\n",
              "\n",
              "    .colab-df-convert:hover {\n",
              "      background-color: #E2EBFA;\n",
              "      box-shadow: 0px 1px 2px rgba(60, 64, 67, 0.3), 0px 1px 3px 1px rgba(60, 64, 67, 0.15);\n",
              "      fill: #174EA6;\n",
              "    }\n",
              "\n",
              "    .colab-df-buttons div {\n",
              "      margin-bottom: 4px;\n",
              "    }\n",
              "\n",
              "    [theme=dark] .colab-df-convert {\n",
              "      background-color: #3B4455;\n",
              "      fill: #D2E3FC;\n",
              "    }\n",
              "\n",
              "    [theme=dark] .colab-df-convert:hover {\n",
              "      background-color: #434B5C;\n",
              "      box-shadow: 0px 1px 3px 1px rgba(0, 0, 0, 0.15);\n",
              "      filter: drop-shadow(0px 1px 2px rgba(0, 0, 0, 0.3));\n",
              "      fill: #FFFFFF;\n",
              "    }\n",
              "  </style>\n",
              "\n",
              "    <script>\n",
              "      const buttonEl =\n",
              "        document.querySelector('#df-200b0d14-7fc5-40dc-a946-cbedcfdb2511 button.colab-df-convert');\n",
              "      buttonEl.style.display =\n",
              "        google.colab.kernel.accessAllowed ? 'block' : 'none';\n",
              "\n",
              "      async function convertToInteractive(key) {\n",
              "        const element = document.querySelector('#df-200b0d14-7fc5-40dc-a946-cbedcfdb2511');\n",
              "        const dataTable =\n",
              "          await google.colab.kernel.invokeFunction('convertToInteractive',\n",
              "                                                    [key], {});\n",
              "        if (!dataTable) return;\n",
              "\n",
              "        const docLinkHtml = 'Like what you see? Visit the ' +\n",
              "          '<a target=\"_blank\" href=https://colab.research.google.com/notebooks/data_table.ipynb>data table notebook</a>'\n",
              "          + ' to learn more about interactive tables.';\n",
              "        element.innerHTML = '';\n",
              "        dataTable['output_type'] = 'display_data';\n",
              "        await google.colab.output.renderOutput(dataTable, element);\n",
              "        const docLink = document.createElement('div');\n",
              "        docLink.innerHTML = docLinkHtml;\n",
              "        element.appendChild(docLink);\n",
              "      }\n",
              "    </script>\n",
              "  </div>\n",
              "\n",
              "\n",
              "    <div id=\"df-9b4ed8d6-00d5-491d-8e50-0d72917038ef\">\n",
              "      <button class=\"colab-df-quickchart\" onclick=\"quickchart('df-9b4ed8d6-00d5-491d-8e50-0d72917038ef')\"\n",
              "                title=\"Suggest charts\"\n",
              "                style=\"display:none;\">\n",
              "\n",
              "<svg xmlns=\"http://www.w3.org/2000/svg\" height=\"24px\"viewBox=\"0 0 24 24\"\n",
              "     width=\"24px\">\n",
              "    <g>\n",
              "        <path d=\"M19 3H5c-1.1 0-2 .9-2 2v14c0 1.1.9 2 2 2h14c1.1 0 2-.9 2-2V5c0-1.1-.9-2-2-2zM9 17H7v-7h2v7zm4 0h-2V7h2v10zm4 0h-2v-4h2v4z\"/>\n",
              "    </g>\n",
              "</svg>\n",
              "      </button>\n",
              "\n",
              "<style>\n",
              "  .colab-df-quickchart {\n",
              "      --bg-color: #E8F0FE;\n",
              "      --fill-color: #1967D2;\n",
              "      --hover-bg-color: #E2EBFA;\n",
              "      --hover-fill-color: #174EA6;\n",
              "      --disabled-fill-color: #AAA;\n",
              "      --disabled-bg-color: #DDD;\n",
              "  }\n",
              "\n",
              "  [theme=dark] .colab-df-quickchart {\n",
              "      --bg-color: #3B4455;\n",
              "      --fill-color: #D2E3FC;\n",
              "      --hover-bg-color: #434B5C;\n",
              "      --hover-fill-color: #FFFFFF;\n",
              "      --disabled-bg-color: #3B4455;\n",
              "      --disabled-fill-color: #666;\n",
              "  }\n",
              "\n",
              "  .colab-df-quickchart {\n",
              "    background-color: var(--bg-color);\n",
              "    border: none;\n",
              "    border-radius: 50%;\n",
              "    cursor: pointer;\n",
              "    display: none;\n",
              "    fill: var(--fill-color);\n",
              "    height: 32px;\n",
              "    padding: 0;\n",
              "    width: 32px;\n",
              "  }\n",
              "\n",
              "  .colab-df-quickchart:hover {\n",
              "    background-color: var(--hover-bg-color);\n",
              "    box-shadow: 0 1px 2px rgba(60, 64, 67, 0.3), 0 1px 3px 1px rgba(60, 64, 67, 0.15);\n",
              "    fill: var(--button-hover-fill-color);\n",
              "  }\n",
              "\n",
              "  .colab-df-quickchart-complete:disabled,\n",
              "  .colab-df-quickchart-complete:disabled:hover {\n",
              "    background-color: var(--disabled-bg-color);\n",
              "    fill: var(--disabled-fill-color);\n",
              "    box-shadow: none;\n",
              "  }\n",
              "\n",
              "  .colab-df-spinner {\n",
              "    border: 2px solid var(--fill-color);\n",
              "    border-color: transparent;\n",
              "    border-bottom-color: var(--fill-color);\n",
              "    animation:\n",
              "      spin 1s steps(1) infinite;\n",
              "  }\n",
              "\n",
              "  @keyframes spin {\n",
              "    0% {\n",
              "      border-color: transparent;\n",
              "      border-bottom-color: var(--fill-color);\n",
              "      border-left-color: var(--fill-color);\n",
              "    }\n",
              "    20% {\n",
              "      border-color: transparent;\n",
              "      border-left-color: var(--fill-color);\n",
              "      border-top-color: var(--fill-color);\n",
              "    }\n",
              "    30% {\n",
              "      border-color: transparent;\n",
              "      border-left-color: var(--fill-color);\n",
              "      border-top-color: var(--fill-color);\n",
              "      border-right-color: var(--fill-color);\n",
              "    }\n",
              "    40% {\n",
              "      border-color: transparent;\n",
              "      border-right-color: var(--fill-color);\n",
              "      border-top-color: var(--fill-color);\n",
              "    }\n",
              "    60% {\n",
              "      border-color: transparent;\n",
              "      border-right-color: var(--fill-color);\n",
              "    }\n",
              "    80% {\n",
              "      border-color: transparent;\n",
              "      border-right-color: var(--fill-color);\n",
              "      border-bottom-color: var(--fill-color);\n",
              "    }\n",
              "    90% {\n",
              "      border-color: transparent;\n",
              "      border-bottom-color: var(--fill-color);\n",
              "    }\n",
              "  }\n",
              "</style>\n",
              "\n",
              "      <script>\n",
              "        async function quickchart(key) {\n",
              "          const quickchartButtonEl =\n",
              "            document.querySelector('#' + key + ' button');\n",
              "          quickchartButtonEl.disabled = true;  // To prevent multiple clicks.\n",
              "          quickchartButtonEl.classList.add('colab-df-spinner');\n",
              "          try {\n",
              "            const charts = await google.colab.kernel.invokeFunction(\n",
              "                'suggestCharts', [key], {});\n",
              "          } catch (error) {\n",
              "            console.error('Error during call to suggestCharts:', error);\n",
              "          }\n",
              "          quickchartButtonEl.classList.remove('colab-df-spinner');\n",
              "          quickchartButtonEl.classList.add('colab-df-quickchart-complete');\n",
              "        }\n",
              "        (() => {\n",
              "          let quickchartButtonEl =\n",
              "            document.querySelector('#df-9b4ed8d6-00d5-491d-8e50-0d72917038ef button');\n",
              "          quickchartButtonEl.style.display =\n",
              "            google.colab.kernel.accessAllowed ? 'block' : 'none';\n",
              "        })();\n",
              "      </script>\n",
              "    </div>\n",
              "\n",
              "    </div>\n",
              "  </div>\n"
            ],
            "application/vnd.google.colaboratory.intrinsic+json": {
              "type": "dataframe",
              "variable_name": "df",
              "summary": "{\n  \"name\": \"df\",\n  \"rows\": 2000,\n  \"fields\": [\n    {\n      \"column\": \"molecule_chembl_id\",\n      \"properties\": {\n        \"dtype\": \"string\",\n        \"num_unique_values\": 1537,\n        \"samples\": [\n          \"CHEMBL433305\",\n          \"CHEMBL69358\",\n          \"CHEMBL422758\"\n        ],\n        \"semantic_type\": \"\",\n        \"description\": \"\"\n      }\n    },\n    {\n      \"column\": \"standard_units\",\n      \"properties\": {\n        \"dtype\": \"category\",\n        \"num_unique_values\": 1,\n        \"samples\": [\n          \"nM\"\n        ],\n        \"semantic_type\": \"\",\n        \"description\": \"\"\n      }\n    },\n    {\n      \"column\": \"standard_value\",\n      \"properties\": {\n        \"dtype\": \"category\",\n        \"num_unique_values\": 795,\n        \"samples\": [\n          \"24400.0\"\n        ],\n        \"semantic_type\": \"\",\n        \"description\": \"\"\n      }\n    },\n    {\n      \"column\": \"units\",\n      \"properties\": {\n        \"dtype\": \"category\",\n        \"num_unique_values\": 4,\n        \"samples\": [\n          \"nM\"\n        ],\n        \"semantic_type\": \"\",\n        \"description\": \"\"\n      }\n    },\n    {\n      \"column\": \"value\",\n      \"properties\": {\n        \"dtype\": \"category\",\n        \"num_unique_values\": 722,\n        \"samples\": [\n          \"769.0\"\n        ],\n        \"semantic_type\": \"\",\n        \"description\": \"\"\n      }\n    }\n  ]\n}"
            }
          },
          "metadata": {},
          "execution_count": 23
        }
      ]
    },
    {
      "cell_type": "markdown",
      "source": [
        "#What is CHEMBL203?\n",
        "\n",
        "This is the ChEMBL ID for the human EGFR protein the biological target for which I am retrieving compound activity data. I am focusing on a single, specific protein target to maintain the biological relevance and consistency of the dataset. Including multiple targets could introduce noise due to differing binding sites, isoforms, or mechanisms of action.\n",
        "\n",
        "#Why IC50?\n",
        "\n",
        "1) IC50 (half-maximal inhibitory concentration) is a widely used metric in drug discovery.\n",
        "\n",
        "2) It represents the concentration of a compound required to inhibit 50% of its target’s biological activity.\n",
        "\n",
        "3) IC50 is a continuous, quantitative measure of how potent a compound is.\n",
        "\n",
        "4) A lower IC50 value indicates higher potency, i.e., the compound is effective at low concentrations.\n",
        "\n",
        "I have filtered for standard_type = \"IC50\" because it's:\n",
        "\n",
        "1) One of the most commonly reported and comparable bioactivity measures.\n",
        "\n",
        "2) Ideal for classification (active vs. inactive) based on well-established thresholds.\n",
        "\n",
        "#Why relation = \"=\"?\n",
        "\n",
        "The relation field in ChEMBL refers to how the IC50 value is reported (e.g., =, >, <, ~).\n",
        "I am only using entries with relation = \"=\" to ensure that the reported IC50 values are exact and numerically comparable — essential for consistent labeling and thresholding in the classification task.\n",
        "\n",
        "#Why assay_type = \"B\"?\n",
        "\n",
        "ChEMBL classifies assays into several types.\n",
        "\n",
        "1) \"B\" stands for binding assays, which measure the physical interaction between a compound and its target (e.g., EGFR).\n",
        "\n",
        "2) Binding assays are generally more direct and reliable compared to functional assays (\"F\"), which measure downstream biological effects.\n",
        "\n",
        "3) Using only binding assays helps ensure that the IC50 values reflect direct inhibition of EGFR, rather than effects mediated by other biological pathways.\n",
        "\n",
        "#What is standard_value, and why is it important?\n",
        "\n",
        "1) standard_value is a numerical representation of the IC50 (in standard units, typically nanomolar (nM)).\n",
        "\n",
        "2) For example, if IC50 = 50 nM, then standard_value = 50 and standard_units = \"nM\".\n",
        "\n",
        "I am using standard_value for classification because:\n",
        "\n",
        "1) It provides a normalized and unified scale for comparing compound potencies.\n",
        "\n",
        "2) It is the only numerical field I need to define compound activity classes (e.g., active if IC50 < 1000 nM).\n",
        "\n",
        "#Why this filtering strategy?\n",
        "\n",
        "By filtering on:\n",
        "\n",
        "1) A single protein (CHEMBL203)\n",
        "\n",
        "2) A standardized activity measure (IC50)\n",
        "\n",
        "3) A precise relation (=)\n",
        "\n",
        "4) A biologically direct assay type (B)\n",
        "\n",
        "...I ensure that the dataset is:\n",
        "\n",
        "1) Clean, with minimal ambiguity\n",
        "\n",
        "2) Biologically consistent, targeting only EGFR\n",
        "\n",
        "3) Suitable for supervised learning, especially binary classification (active/inactive)\n",
        "\n",
        "Also, I have limited the dataset to the first 2000 entries for faster experimentation and prototyping, although this can be increased for production models."
      ],
      "metadata": {
        "id": "1oFL_biLvKdU"
      }
    },
    {
      "cell_type": "markdown",
      "source": [
        "Saving the dataset..."
      ],
      "metadata": {
        "id": "cqJDmJPHxCWv"
      }
    },
    {
      "cell_type": "code",
      "source": [
        "df.to_csv(\"bioactivity_data.csv\", index=False)"
      ],
      "metadata": {
        "id": "qOpTirCd5uQ_"
      },
      "execution_count": null,
      "outputs": []
    },
    {
      "cell_type": "markdown",
      "source": [
        "Checking for missing data"
      ],
      "metadata": {
        "id": "sdtFwtmSxE96"
      }
    },
    {
      "cell_type": "code",
      "source": [
        "df.isnull().sum()"
      ],
      "metadata": {
        "colab": {
          "base_uri": "https://localhost:8080/",
          "height": 241
        },
        "id": "8sFW4rZB9C7C",
        "outputId": "c323926c-8fa3-4605-9221-1aa6215777d1"
      },
      "execution_count": null,
      "outputs": [
        {
          "output_type": "execute_result",
          "data": {
            "text/plain": [
              "molecule_chembl_id     0\n",
              "standard_units         0\n",
              "standard_value         1\n",
              "units                 49\n",
              "value                  1\n",
              "dtype: int64"
            ],
            "text/html": [
              "<div>\n",
              "<style scoped>\n",
              "    .dataframe tbody tr th:only-of-type {\n",
              "        vertical-align: middle;\n",
              "    }\n",
              "\n",
              "    .dataframe tbody tr th {\n",
              "        vertical-align: top;\n",
              "    }\n",
              "\n",
              "    .dataframe thead th {\n",
              "        text-align: right;\n",
              "    }\n",
              "</style>\n",
              "<table border=\"1\" class=\"dataframe\">\n",
              "  <thead>\n",
              "    <tr style=\"text-align: right;\">\n",
              "      <th></th>\n",
              "      <th>0</th>\n",
              "    </tr>\n",
              "  </thead>\n",
              "  <tbody>\n",
              "    <tr>\n",
              "      <th>molecule_chembl_id</th>\n",
              "      <td>0</td>\n",
              "    </tr>\n",
              "    <tr>\n",
              "      <th>standard_units</th>\n",
              "      <td>0</td>\n",
              "    </tr>\n",
              "    <tr>\n",
              "      <th>standard_value</th>\n",
              "      <td>1</td>\n",
              "    </tr>\n",
              "    <tr>\n",
              "      <th>units</th>\n",
              "      <td>49</td>\n",
              "    </tr>\n",
              "    <tr>\n",
              "      <th>value</th>\n",
              "      <td>1</td>\n",
              "    </tr>\n",
              "  </tbody>\n",
              "</table>\n",
              "</div><br><label><b>dtype:</b> int64</label>"
            ]
          },
          "metadata": {},
          "execution_count": 26
        }
      ]
    },
    {
      "cell_type": "markdown",
      "source": [
        "Now, the only column which will be useful for calculating SMILES later is the standard_value column. Since there is one missing value there, I need to remove that row. Null values in the units column are not important.\n",
        "\n",
        "The below code is just for checking if standard_units have all the entries correctly."
      ],
      "metadata": {
        "id": "DoZqetZBxIhX"
      }
    },
    {
      "cell_type": "code",
      "source": [
        "df.standard_units.value_counts()"
      ],
      "metadata": {
        "colab": {
          "base_uri": "https://localhost:8080/",
          "height": 147
        },
        "id": "uzMd5pt89RC_",
        "outputId": "fc2c30ed-80bb-44d7-a3f9-79f41632e2f5"
      },
      "execution_count": null,
      "outputs": [
        {
          "output_type": "execute_result",
          "data": {
            "text/plain": [
              "standard_units\n",
              "nM    2000\n",
              "Name: count, dtype: int64"
            ],
            "text/html": [
              "<div>\n",
              "<style scoped>\n",
              "    .dataframe tbody tr th:only-of-type {\n",
              "        vertical-align: middle;\n",
              "    }\n",
              "\n",
              "    .dataframe tbody tr th {\n",
              "        vertical-align: top;\n",
              "    }\n",
              "\n",
              "    .dataframe thead th {\n",
              "        text-align: right;\n",
              "    }\n",
              "</style>\n",
              "<table border=\"1\" class=\"dataframe\">\n",
              "  <thead>\n",
              "    <tr style=\"text-align: right;\">\n",
              "      <th></th>\n",
              "      <th>count</th>\n",
              "    </tr>\n",
              "    <tr>\n",
              "      <th>standard_units</th>\n",
              "      <th></th>\n",
              "    </tr>\n",
              "  </thead>\n",
              "  <tbody>\n",
              "    <tr>\n",
              "      <th>nM</th>\n",
              "      <td>2000</td>\n",
              "    </tr>\n",
              "  </tbody>\n",
              "</table>\n",
              "</div><br><label><b>dtype:</b> int64</label>"
            ]
          },
          "metadata": {},
          "execution_count": 28
        }
      ]
    },
    {
      "cell_type": "markdown",
      "source": [
        "Everything's fine. Now removing the missing data row..."
      ],
      "metadata": {
        "id": "IEYTcW-axi0z"
      }
    },
    {
      "cell_type": "code",
      "source": [
        "df_clean = df.dropna(subset=[\"standard_value\"])"
      ],
      "metadata": {
        "id": "Kc-lNOdzN4DL"
      },
      "execution_count": null,
      "outputs": []
    },
    {
      "cell_type": "code",
      "source": [
        "df_clean.isnull().sum()"
      ],
      "metadata": {
        "colab": {
          "base_uri": "https://localhost:8080/",
          "height": 241
        },
        "id": "4Tye8KxdOJZi",
        "outputId": "e4a23598-b372-4723-8d4c-0449067986a3"
      },
      "execution_count": null,
      "outputs": [
        {
          "output_type": "execute_result",
          "data": {
            "text/plain": [
              "molecule_chembl_id     0\n",
              "standard_units         0\n",
              "standard_value         0\n",
              "units                 49\n",
              "value                  0\n",
              "dtype: int64"
            ],
            "text/html": [
              "<div>\n",
              "<style scoped>\n",
              "    .dataframe tbody tr th:only-of-type {\n",
              "        vertical-align: middle;\n",
              "    }\n",
              "\n",
              "    .dataframe tbody tr th {\n",
              "        vertical-align: top;\n",
              "    }\n",
              "\n",
              "    .dataframe thead th {\n",
              "        text-align: right;\n",
              "    }\n",
              "</style>\n",
              "<table border=\"1\" class=\"dataframe\">\n",
              "  <thead>\n",
              "    <tr style=\"text-align: right;\">\n",
              "      <th></th>\n",
              "      <th>0</th>\n",
              "    </tr>\n",
              "  </thead>\n",
              "  <tbody>\n",
              "    <tr>\n",
              "      <th>molecule_chembl_id</th>\n",
              "      <td>0</td>\n",
              "    </tr>\n",
              "    <tr>\n",
              "      <th>standard_units</th>\n",
              "      <td>0</td>\n",
              "    </tr>\n",
              "    <tr>\n",
              "      <th>standard_value</th>\n",
              "      <td>0</td>\n",
              "    </tr>\n",
              "    <tr>\n",
              "      <th>units</th>\n",
              "      <td>49</td>\n",
              "    </tr>\n",
              "    <tr>\n",
              "      <th>value</th>\n",
              "      <td>0</td>\n",
              "    </tr>\n",
              "  </tbody>\n",
              "</table>\n",
              "</div><br><label><b>dtype:</b> int64</label>"
            ]
          },
          "metadata": {},
          "execution_count": 35
        }
      ]
    },
    {
      "cell_type": "markdown",
      "source": [
        "Data is cleaned."
      ],
      "metadata": {
        "id": "wgHMJIONxpPA"
      }
    },
    {
      "cell_type": "markdown",
      "source": [
        "#**Classification Criteria**:\n",
        "\n",
        "- Active: IC50 ≤ 1000 nM\n",
        "\n",
        "- Inactive: IC50 ≥ 10000 nM\n",
        "\n",
        "- ntermediate: IC50 between 1000 and 10000 nM\n",
        "\n",
        "These thresholds are commonly used in cheminformatics to separate clearly potent compounds (active) from weak or ineffective ones (inactive), while ignoring borderline compounds (intermediate) that may introduce noise in a classification task.\n",
        "\n",
        "In later steps, I will discard the intermediate class and retain only active and inactive compounds to build a clean and unambiguous binary classification model.\n"
      ],
      "metadata": {
        "id": "dHL70hxnxrX4"
      }
    },
    {
      "cell_type": "code",
      "source": [
        "bioactivity_class = []\n",
        "for i in df_clean.standard_value:\n",
        "  if float(i) >= 10000:\n",
        "    bioactivity_class.append(\"inactive\")\n",
        "  elif float(i) <= 1000:\n",
        "    bioactivity_class.append(\"active\")\n",
        "  else:\n",
        "    bioactivity_class.append(\"intermediate\")"
      ],
      "metadata": {
        "id": "YvLT-uh5OWIO"
      },
      "execution_count": null,
      "outputs": []
    },
    {
      "cell_type": "markdown",
      "source": [
        "Final checking. Number of samples = 1999 (2000 - 1 missing standard value row)"
      ],
      "metadata": {
        "id": "0d2i-QOnyK3F"
      }
    },
    {
      "cell_type": "code",
      "source": [
        "len(bioactivity_class)"
      ],
      "metadata": {
        "colab": {
          "base_uri": "https://localhost:8080/"
        },
        "id": "YNpB59p9O-TL",
        "outputId": "09bfc13e-ab22-476f-90e1-bf4d230f330c"
      },
      "execution_count": null,
      "outputs": [
        {
          "output_type": "execute_result",
          "data": {
            "text/plain": [
              "1999"
            ]
          },
          "metadata": {},
          "execution_count": 38
        }
      ]
    },
    {
      "cell_type": "markdown",
      "source": [
        "#Retrieving Canonical SMILES Representations\n",
        "\n",
        "After filtering the dataset for bioactivity data, I needed to obtain the chemical structures of each compound in a machine-readable format. This is essential for computing molecular descriptors and fingerprints in the next steps.\n",
        "\n",
        "The following code fetches the canonical SMILES for each molecule from ChEMBL:"
      ],
      "metadata": {
        "id": "aF8wSSj1yUu6"
      }
    },
    {
      "cell_type": "code",
      "source": [
        "from tqdm import tqdm\n",
        "\n",
        "molecule_client = new_client.molecule\n",
        "\n",
        "smiles_list = []\n",
        "\n",
        "for mol_id in tqdm(df_clean['molecule_chembl_id']):\n",
        "    try:\n",
        "        mol_data = molecule_client.get(mol_id)\n",
        "        smiles = mol_data['molecule_structures']['canonical_smiles']\n",
        "    except:\n",
        "        smiles = None\n",
        "    smiles_list.append(smiles)\n",
        "\n",
        "df_clean['canonical_smiles'] = smiles_list\n",
        "\n",
        "print(df_clean.head())"
      ],
      "metadata": {
        "colab": {
          "base_uri": "https://localhost:8080/"
        },
        "id": "WRHtewh6PGnS",
        "outputId": "511a717e-28cd-4d7e-f4c5-3ccf4a66b304"
      },
      "execution_count": null,
      "outputs": [
        {
          "output_type": "stream",
          "name": "stderr",
          "text": [
            "100%|██████████| 1999/1999 [09:07<00:00,  3.65it/s]"
          ]
        },
        {
          "output_type": "stream",
          "name": "stdout",
          "text": [
            "  molecule_chembl_id standard_units standard_value units   value  \\\n",
            "0        CHEMBL68920             nM           41.0    uM   0.041   \n",
            "1        CHEMBL69960             nM          170.0    uM    0.17   \n",
            "2       CHEMBL137635             nM         9300.0    uM     9.3   \n",
            "3       CHEMBL306988             nM       500000.0    uM   500.0   \n",
            "4        CHEMBL66879             nM      3000000.0    uM  3000.0   \n",
            "\n",
            "                                    canonical_smiles  \n",
            "0  Cc1cc(C)c(/C=C2\\C(=O)Nc3ncnc(Nc4ccc(F)c(Cl)c4)...  \n",
            "1  Cc1cc(C(=O)N2CCOCC2)[nH]c1/C=C1\\C(=O)Nc2ncnc(N...  \n",
            "2        CN(c1ccccc1)c1ncnc2ccc(N/N=N/Cc3ccccn3)cc12  \n",
            "3             CC(=C(C#N)C#N)c1ccc(NC(=O)CCC(=O)O)cc1  \n",
            "4                             O=C(O)/C=C/c1ccc(O)cc1  \n"
          ]
        },
        {
          "output_type": "stream",
          "name": "stderr",
          "text": [
            "\n",
            "<ipython-input-39-2329285210>:15: SettingWithCopyWarning: \n",
            "A value is trying to be set on a copy of a slice from a DataFrame.\n",
            "Try using .loc[row_indexer,col_indexer] = value instead\n",
            "\n",
            "See the caveats in the documentation: https://pandas.pydata.org/pandas-docs/stable/user_guide/indexing.html#returning-a-view-versus-a-copy\n",
            "  df_clean['canonical_smiles'] = smiles_list\n"
          ]
        }
      ]
    },
    {
      "cell_type": "markdown",
      "source": [
        "#What is SMILES?\n",
        "\n",
        "SMILES (Simplified Molecular Input Line Entry System) is a line notation for representing molecular structures using short ASCII strings. It encodes the atoms and the connectivity (bonds) in a molecule.\n",
        "\n",
        "For example:\n",
        "\n",
        "- Ethanol → CCO\n",
        "\n",
        "- Benzene → c1ccccc1\n",
        "\n",
        "I specifically retrieved **canonical SMILES**, which are standardized representations generated deterministically. This ensures:\n",
        "\n",
        "1) Consistency across all entries\n",
        "\n",
        "2) Compatibility with RDKit for further descriptor and fingerprint generation\n",
        "\n",
        "3) Avoidance of redundant molecular formats\n",
        "\n",
        "SMILES are widely used in cheminformatics because they are:\n",
        "\n",
        "- Compact and lightweight\n",
        "\n",
        "- Easily parsed by programs\n",
        "\n",
        "- Convertible to structural models (2D/3D) when needed\n",
        "\n",
        "#Why did I use tqdm?\n",
        "\n",
        "I used the tqdm library to display a progress bar while iterating through each compound’s ChEMBL ID. Since I was querying the ChEMBL API for hundreds of molecules, this helped me:\n",
        "\n",
        "1) Track progress visually\n",
        "\n",
        "2) Monitor how long the retrieval process was taking\n",
        "\n",
        "3) Spot delays or any points where the process may have stalled\n",
        "\n",
        "4) Without tqdm, the loop would run silently, offering no indication of how many entries had been processed or how much time remained.\n",
        "\n",
        "\n",
        "\n",
        "This step added a new column, canonical_smiles to my dataset, which I will use next to generate structure-based molecular features for model training."
      ],
      "metadata": {
        "id": "qknILCTWzGEK"
      }
    },
    {
      "cell_type": "code",
      "source": [
        "df_clean.isnull().sum()"
      ],
      "metadata": {
        "colab": {
          "base_uri": "https://localhost:8080/",
          "height": 272
        },
        "id": "DBq_vw7xTT-Y",
        "outputId": "8685c0a3-3a04-4a88-d70c-632692955bec"
      },
      "execution_count": null,
      "outputs": [
        {
          "output_type": "execute_result",
          "data": {
            "text/plain": [
              "molecule_chembl_id     0\n",
              "standard_units         0\n",
              "standard_value         0\n",
              "units                 49\n",
              "value                  0\n",
              "canonical_smiles       0\n",
              "dtype: int64"
            ],
            "text/html": [
              "<div>\n",
              "<style scoped>\n",
              "    .dataframe tbody tr th:only-of-type {\n",
              "        vertical-align: middle;\n",
              "    }\n",
              "\n",
              "    .dataframe tbody tr th {\n",
              "        vertical-align: top;\n",
              "    }\n",
              "\n",
              "    .dataframe thead th {\n",
              "        text-align: right;\n",
              "    }\n",
              "</style>\n",
              "<table border=\"1\" class=\"dataframe\">\n",
              "  <thead>\n",
              "    <tr style=\"text-align: right;\">\n",
              "      <th></th>\n",
              "      <th>0</th>\n",
              "    </tr>\n",
              "  </thead>\n",
              "  <tbody>\n",
              "    <tr>\n",
              "      <th>molecule_chembl_id</th>\n",
              "      <td>0</td>\n",
              "    </tr>\n",
              "    <tr>\n",
              "      <th>standard_units</th>\n",
              "      <td>0</td>\n",
              "    </tr>\n",
              "    <tr>\n",
              "      <th>standard_value</th>\n",
              "      <td>0</td>\n",
              "    </tr>\n",
              "    <tr>\n",
              "      <th>units</th>\n",
              "      <td>49</td>\n",
              "    </tr>\n",
              "    <tr>\n",
              "      <th>value</th>\n",
              "      <td>0</td>\n",
              "    </tr>\n",
              "    <tr>\n",
              "      <th>canonical_smiles</th>\n",
              "      <td>0</td>\n",
              "    </tr>\n",
              "  </tbody>\n",
              "</table>\n",
              "</div><br><label><b>dtype:</b> int64</label>"
            ]
          },
          "metadata": {},
          "execution_count": 40
        }
      ]
    },
    {
      "cell_type": "code",
      "source": [
        "df_clean.shape"
      ],
      "metadata": {
        "colab": {
          "base_uri": "https://localhost:8080/"
        },
        "id": "XRMkcK6mYFQx",
        "outputId": "61d8782d-2805-465c-9dd1-d6a875d7554e"
      },
      "execution_count": null,
      "outputs": [
        {
          "output_type": "execute_result",
          "data": {
            "text/plain": [
              "(1999, 6)"
            ]
          },
          "metadata": {},
          "execution_count": 69
        }
      ]
    },
    {
      "cell_type": "markdown",
      "source": [
        "Dataset preparation with features and class-label column."
      ],
      "metadata": {
        "id": "V6O8JDn-0cD7"
      }
    },
    {
      "cell_type": "code",
      "source": [
        "data = pd.concat([df_clean.drop(['standard_units','units','value'], axis=1), pd.Series(bioactivity_class)], axis=1)"
      ],
      "metadata": {
        "id": "SkpL6UNbTl9c"
      },
      "execution_count": null,
      "outputs": []
    },
    {
      "cell_type": "code",
      "source": [
        "data.head()"
      ],
      "metadata": {
        "colab": {
          "base_uri": "https://localhost:8080/",
          "height": 206
        },
        "id": "bizmpZ-sU36G",
        "outputId": "545efe94-6a1c-43ee-da83-e2de5bee71ac"
      },
      "execution_count": null,
      "outputs": [
        {
          "output_type": "execute_result",
          "data": {
            "text/plain": [
              "  molecule_chembl_id standard_value  \\\n",
              "0        CHEMBL68920           41.0   \n",
              "1        CHEMBL69960          170.0   \n",
              "2       CHEMBL137635         9300.0   \n",
              "3       CHEMBL306988       500000.0   \n",
              "4        CHEMBL66879      3000000.0   \n",
              "\n",
              "                                    canonical_smiles             0  \n",
              "0  Cc1cc(C)c(/C=C2\\C(=O)Nc3ncnc(Nc4ccc(F)c(Cl)c4)...        active  \n",
              "1  Cc1cc(C(=O)N2CCOCC2)[nH]c1/C=C1\\C(=O)Nc2ncnc(N...        active  \n",
              "2        CN(c1ccccc1)c1ncnc2ccc(N/N=N/Cc3ccccn3)cc12  intermediate  \n",
              "3             CC(=C(C#N)C#N)c1ccc(NC(=O)CCC(=O)O)cc1      inactive  \n",
              "4                             O=C(O)/C=C/c1ccc(O)cc1      inactive  "
            ],
            "text/html": [
              "\n",
              "  <div id=\"df-7beef5db-af72-45f4-b5b3-2eadca44baf6\" class=\"colab-df-container\">\n",
              "    <div>\n",
              "<style scoped>\n",
              "    .dataframe tbody tr th:only-of-type {\n",
              "        vertical-align: middle;\n",
              "    }\n",
              "\n",
              "    .dataframe tbody tr th {\n",
              "        vertical-align: top;\n",
              "    }\n",
              "\n",
              "    .dataframe thead th {\n",
              "        text-align: right;\n",
              "    }\n",
              "</style>\n",
              "<table border=\"1\" class=\"dataframe\">\n",
              "  <thead>\n",
              "    <tr style=\"text-align: right;\">\n",
              "      <th></th>\n",
              "      <th>molecule_chembl_id</th>\n",
              "      <th>standard_value</th>\n",
              "      <th>canonical_smiles</th>\n",
              "      <th>0</th>\n",
              "    </tr>\n",
              "  </thead>\n",
              "  <tbody>\n",
              "    <tr>\n",
              "      <th>0</th>\n",
              "      <td>CHEMBL68920</td>\n",
              "      <td>41.0</td>\n",
              "      <td>Cc1cc(C)c(/C=C2\\C(=O)Nc3ncnc(Nc4ccc(F)c(Cl)c4)...</td>\n",
              "      <td>active</td>\n",
              "    </tr>\n",
              "    <tr>\n",
              "      <th>1</th>\n",
              "      <td>CHEMBL69960</td>\n",
              "      <td>170.0</td>\n",
              "      <td>Cc1cc(C(=O)N2CCOCC2)[nH]c1/C=C1\\C(=O)Nc2ncnc(N...</td>\n",
              "      <td>active</td>\n",
              "    </tr>\n",
              "    <tr>\n",
              "      <th>2</th>\n",
              "      <td>CHEMBL137635</td>\n",
              "      <td>9300.0</td>\n",
              "      <td>CN(c1ccccc1)c1ncnc2ccc(N/N=N/Cc3ccccn3)cc12</td>\n",
              "      <td>intermediate</td>\n",
              "    </tr>\n",
              "    <tr>\n",
              "      <th>3</th>\n",
              "      <td>CHEMBL306988</td>\n",
              "      <td>500000.0</td>\n",
              "      <td>CC(=C(C#N)C#N)c1ccc(NC(=O)CCC(=O)O)cc1</td>\n",
              "      <td>inactive</td>\n",
              "    </tr>\n",
              "    <tr>\n",
              "      <th>4</th>\n",
              "      <td>CHEMBL66879</td>\n",
              "      <td>3000000.0</td>\n",
              "      <td>O=C(O)/C=C/c1ccc(O)cc1</td>\n",
              "      <td>inactive</td>\n",
              "    </tr>\n",
              "  </tbody>\n",
              "</table>\n",
              "</div>\n",
              "    <div class=\"colab-df-buttons\">\n",
              "\n",
              "  <div class=\"colab-df-container\">\n",
              "    <button class=\"colab-df-convert\" onclick=\"convertToInteractive('df-7beef5db-af72-45f4-b5b3-2eadca44baf6')\"\n",
              "            title=\"Convert this dataframe to an interactive table.\"\n",
              "            style=\"display:none;\">\n",
              "\n",
              "  <svg xmlns=\"http://www.w3.org/2000/svg\" height=\"24px\" viewBox=\"0 -960 960 960\">\n",
              "    <path d=\"M120-120v-720h720v720H120Zm60-500h600v-160H180v160Zm220 220h160v-160H400v160Zm0 220h160v-160H400v160ZM180-400h160v-160H180v160Zm440 0h160v-160H620v160ZM180-180h160v-160H180v160Zm440 0h160v-160H620v160Z\"/>\n",
              "  </svg>\n",
              "    </button>\n",
              "\n",
              "  <style>\n",
              "    .colab-df-container {\n",
              "      display:flex;\n",
              "      gap: 12px;\n",
              "    }\n",
              "\n",
              "    .colab-df-convert {\n",
              "      background-color: #E8F0FE;\n",
              "      border: none;\n",
              "      border-radius: 50%;\n",
              "      cursor: pointer;\n",
              "      display: none;\n",
              "      fill: #1967D2;\n",
              "      height: 32px;\n",
              "      padding: 0 0 0 0;\n",
              "      width: 32px;\n",
              "    }\n",
              "\n",
              "    .colab-df-convert:hover {\n",
              "      background-color: #E2EBFA;\n",
              "      box-shadow: 0px 1px 2px rgba(60, 64, 67, 0.3), 0px 1px 3px 1px rgba(60, 64, 67, 0.15);\n",
              "      fill: #174EA6;\n",
              "    }\n",
              "\n",
              "    .colab-df-buttons div {\n",
              "      margin-bottom: 4px;\n",
              "    }\n",
              "\n",
              "    [theme=dark] .colab-df-convert {\n",
              "      background-color: #3B4455;\n",
              "      fill: #D2E3FC;\n",
              "    }\n",
              "\n",
              "    [theme=dark] .colab-df-convert:hover {\n",
              "      background-color: #434B5C;\n",
              "      box-shadow: 0px 1px 3px 1px rgba(0, 0, 0, 0.15);\n",
              "      filter: drop-shadow(0px 1px 2px rgba(0, 0, 0, 0.3));\n",
              "      fill: #FFFFFF;\n",
              "    }\n",
              "  </style>\n",
              "\n",
              "    <script>\n",
              "      const buttonEl =\n",
              "        document.querySelector('#df-7beef5db-af72-45f4-b5b3-2eadca44baf6 button.colab-df-convert');\n",
              "      buttonEl.style.display =\n",
              "        google.colab.kernel.accessAllowed ? 'block' : 'none';\n",
              "\n",
              "      async function convertToInteractive(key) {\n",
              "        const element = document.querySelector('#df-7beef5db-af72-45f4-b5b3-2eadca44baf6');\n",
              "        const dataTable =\n",
              "          await google.colab.kernel.invokeFunction('convertToInteractive',\n",
              "                                                    [key], {});\n",
              "        if (!dataTable) return;\n",
              "\n",
              "        const docLinkHtml = 'Like what you see? Visit the ' +\n",
              "          '<a target=\"_blank\" href=https://colab.research.google.com/notebooks/data_table.ipynb>data table notebook</a>'\n",
              "          + ' to learn more about interactive tables.';\n",
              "        element.innerHTML = '';\n",
              "        dataTable['output_type'] = 'display_data';\n",
              "        await google.colab.output.renderOutput(dataTable, element);\n",
              "        const docLink = document.createElement('div');\n",
              "        docLink.innerHTML = docLinkHtml;\n",
              "        element.appendChild(docLink);\n",
              "      }\n",
              "    </script>\n",
              "  </div>\n",
              "\n",
              "\n",
              "    <div id=\"df-5f28e93e-2b02-4059-807b-3a75214407b8\">\n",
              "      <button class=\"colab-df-quickchart\" onclick=\"quickchart('df-5f28e93e-2b02-4059-807b-3a75214407b8')\"\n",
              "                title=\"Suggest charts\"\n",
              "                style=\"display:none;\">\n",
              "\n",
              "<svg xmlns=\"http://www.w3.org/2000/svg\" height=\"24px\"viewBox=\"0 0 24 24\"\n",
              "     width=\"24px\">\n",
              "    <g>\n",
              "        <path d=\"M19 3H5c-1.1 0-2 .9-2 2v14c0 1.1.9 2 2 2h14c1.1 0 2-.9 2-2V5c0-1.1-.9-2-2-2zM9 17H7v-7h2v7zm4 0h-2V7h2v10zm4 0h-2v-4h2v4z\"/>\n",
              "    </g>\n",
              "</svg>\n",
              "      </button>\n",
              "\n",
              "<style>\n",
              "  .colab-df-quickchart {\n",
              "      --bg-color: #E8F0FE;\n",
              "      --fill-color: #1967D2;\n",
              "      --hover-bg-color: #E2EBFA;\n",
              "      --hover-fill-color: #174EA6;\n",
              "      --disabled-fill-color: #AAA;\n",
              "      --disabled-bg-color: #DDD;\n",
              "  }\n",
              "\n",
              "  [theme=dark] .colab-df-quickchart {\n",
              "      --bg-color: #3B4455;\n",
              "      --fill-color: #D2E3FC;\n",
              "      --hover-bg-color: #434B5C;\n",
              "      --hover-fill-color: #FFFFFF;\n",
              "      --disabled-bg-color: #3B4455;\n",
              "      --disabled-fill-color: #666;\n",
              "  }\n",
              "\n",
              "  .colab-df-quickchart {\n",
              "    background-color: var(--bg-color);\n",
              "    border: none;\n",
              "    border-radius: 50%;\n",
              "    cursor: pointer;\n",
              "    display: none;\n",
              "    fill: var(--fill-color);\n",
              "    height: 32px;\n",
              "    padding: 0;\n",
              "    width: 32px;\n",
              "  }\n",
              "\n",
              "  .colab-df-quickchart:hover {\n",
              "    background-color: var(--hover-bg-color);\n",
              "    box-shadow: 0 1px 2px rgba(60, 64, 67, 0.3), 0 1px 3px 1px rgba(60, 64, 67, 0.15);\n",
              "    fill: var(--button-hover-fill-color);\n",
              "  }\n",
              "\n",
              "  .colab-df-quickchart-complete:disabled,\n",
              "  .colab-df-quickchart-complete:disabled:hover {\n",
              "    background-color: var(--disabled-bg-color);\n",
              "    fill: var(--disabled-fill-color);\n",
              "    box-shadow: none;\n",
              "  }\n",
              "\n",
              "  .colab-df-spinner {\n",
              "    border: 2px solid var(--fill-color);\n",
              "    border-color: transparent;\n",
              "    border-bottom-color: var(--fill-color);\n",
              "    animation:\n",
              "      spin 1s steps(1) infinite;\n",
              "  }\n",
              "\n",
              "  @keyframes spin {\n",
              "    0% {\n",
              "      border-color: transparent;\n",
              "      border-bottom-color: var(--fill-color);\n",
              "      border-left-color: var(--fill-color);\n",
              "    }\n",
              "    20% {\n",
              "      border-color: transparent;\n",
              "      border-left-color: var(--fill-color);\n",
              "      border-top-color: var(--fill-color);\n",
              "    }\n",
              "    30% {\n",
              "      border-color: transparent;\n",
              "      border-left-color: var(--fill-color);\n",
              "      border-top-color: var(--fill-color);\n",
              "      border-right-color: var(--fill-color);\n",
              "    }\n",
              "    40% {\n",
              "      border-color: transparent;\n",
              "      border-right-color: var(--fill-color);\n",
              "      border-top-color: var(--fill-color);\n",
              "    }\n",
              "    60% {\n",
              "      border-color: transparent;\n",
              "      border-right-color: var(--fill-color);\n",
              "    }\n",
              "    80% {\n",
              "      border-color: transparent;\n",
              "      border-right-color: var(--fill-color);\n",
              "      border-bottom-color: var(--fill-color);\n",
              "    }\n",
              "    90% {\n",
              "      border-color: transparent;\n",
              "      border-bottom-color: var(--fill-color);\n",
              "    }\n",
              "  }\n",
              "</style>\n",
              "\n",
              "      <script>\n",
              "        async function quickchart(key) {\n",
              "          const quickchartButtonEl =\n",
              "            document.querySelector('#' + key + ' button');\n",
              "          quickchartButtonEl.disabled = true;  // To prevent multiple clicks.\n",
              "          quickchartButtonEl.classList.add('colab-df-spinner');\n",
              "          try {\n",
              "            const charts = await google.colab.kernel.invokeFunction(\n",
              "                'suggestCharts', [key], {});\n",
              "          } catch (error) {\n",
              "            console.error('Error during call to suggestCharts:', error);\n",
              "          }\n",
              "          quickchartButtonEl.classList.remove('colab-df-spinner');\n",
              "          quickchartButtonEl.classList.add('colab-df-quickchart-complete');\n",
              "        }\n",
              "        (() => {\n",
              "          let quickchartButtonEl =\n",
              "            document.querySelector('#df-5f28e93e-2b02-4059-807b-3a75214407b8 button');\n",
              "          quickchartButtonEl.style.display =\n",
              "            google.colab.kernel.accessAllowed ? 'block' : 'none';\n",
              "        })();\n",
              "      </script>\n",
              "    </div>\n",
              "\n",
              "    </div>\n",
              "  </div>\n"
            ],
            "application/vnd.google.colaboratory.intrinsic+json": {
              "type": "dataframe",
              "variable_name": "data",
              "summary": "{\n  \"name\": \"data\",\n  \"rows\": 2000,\n  \"fields\": [\n    {\n      \"column\": \"molecule_chembl_id\",\n      \"properties\": {\n        \"dtype\": \"string\",\n        \"num_unique_values\": 1536,\n        \"samples\": [\n          \"CHEMBL421686\",\n          \"CHEMBL69358\",\n          \"CHEMBL422758\"\n        ],\n        \"semantic_type\": \"\",\n        \"description\": \"\"\n      }\n    },\n    {\n      \"column\": \"standard_value\",\n      \"properties\": {\n        \"dtype\": \"category\",\n        \"num_unique_values\": 795,\n        \"samples\": [\n          \"24400.0\",\n          \"2300.0\",\n          \"55000.0\"\n        ],\n        \"semantic_type\": \"\",\n        \"description\": \"\"\n      }\n    },\n    {\n      \"column\": \"canonical_smiles\",\n      \"properties\": {\n        \"dtype\": \"string\",\n        \"num_unique_values\": 1536,\n        \"samples\": [\n          \"Cc1[nH]c2ncnc(NCc3ccccc3)c2c1C\",\n          \"CCN(CC)CCNC(=O)c1cc(C)c(/C=C2\\\\C(=O)Nc3ncnc(Nc4ccc(F)c(Cl)c4)c32)[nH]1\",\n          \"COc1cc2c(Nc3c(F)cc(Cl)cc3F)ncnc2cc1OCC1CCN(C)CC1\"\n        ],\n        \"semantic_type\": \"\",\n        \"description\": \"\"\n      }\n    },\n    {\n      \"column\": 0,\n      \"properties\": {\n        \"dtype\": \"category\",\n        \"num_unique_values\": 3,\n        \"samples\": [\n          \"active\",\n          \"intermediate\",\n          \"inactive\"\n        ],\n        \"semantic_type\": \"\",\n        \"description\": \"\"\n      }\n    }\n  ]\n}"
            }
          },
          "metadata": {},
          "execution_count": 72
        }
      ]
    },
    {
      "cell_type": "code",
      "source": [
        "data.rename(columns={0: 'bioactivity_class'}, inplace=True)"
      ],
      "metadata": {
        "id": "_XfpkEiEVgJJ"
      },
      "execution_count": null,
      "outputs": []
    },
    {
      "cell_type": "code",
      "source": [
        "data.head()"
      ],
      "metadata": {
        "colab": {
          "base_uri": "https://localhost:8080/",
          "height": 206
        },
        "id": "sHpLDM_YWD7-",
        "outputId": "15f3b468-03ef-44a0-ad4f-9c61e8bce191"
      },
      "execution_count": null,
      "outputs": [
        {
          "output_type": "execute_result",
          "data": {
            "text/plain": [
              "  molecule_chembl_id standard_value  \\\n",
              "0        CHEMBL68920           41.0   \n",
              "1        CHEMBL69960          170.0   \n",
              "2       CHEMBL137635         9300.0   \n",
              "3       CHEMBL306988       500000.0   \n",
              "4        CHEMBL66879      3000000.0   \n",
              "\n",
              "                                    canonical_smiles bioactivity_class  \n",
              "0  Cc1cc(C)c(/C=C2\\C(=O)Nc3ncnc(Nc4ccc(F)c(Cl)c4)...            active  \n",
              "1  Cc1cc(C(=O)N2CCOCC2)[nH]c1/C=C1\\C(=O)Nc2ncnc(N...            active  \n",
              "2        CN(c1ccccc1)c1ncnc2ccc(N/N=N/Cc3ccccn3)cc12      intermediate  \n",
              "3             CC(=C(C#N)C#N)c1ccc(NC(=O)CCC(=O)O)cc1          inactive  \n",
              "4                             O=C(O)/C=C/c1ccc(O)cc1          inactive  "
            ],
            "text/html": [
              "\n",
              "  <div id=\"df-d0a31946-b137-4367-abaf-e00a21525014\" class=\"colab-df-container\">\n",
              "    <div>\n",
              "<style scoped>\n",
              "    .dataframe tbody tr th:only-of-type {\n",
              "        vertical-align: middle;\n",
              "    }\n",
              "\n",
              "    .dataframe tbody tr th {\n",
              "        vertical-align: top;\n",
              "    }\n",
              "\n",
              "    .dataframe thead th {\n",
              "        text-align: right;\n",
              "    }\n",
              "</style>\n",
              "<table border=\"1\" class=\"dataframe\">\n",
              "  <thead>\n",
              "    <tr style=\"text-align: right;\">\n",
              "      <th></th>\n",
              "      <th>molecule_chembl_id</th>\n",
              "      <th>standard_value</th>\n",
              "      <th>canonical_smiles</th>\n",
              "      <th>bioactivity_class</th>\n",
              "    </tr>\n",
              "  </thead>\n",
              "  <tbody>\n",
              "    <tr>\n",
              "      <th>0</th>\n",
              "      <td>CHEMBL68920</td>\n",
              "      <td>41.0</td>\n",
              "      <td>Cc1cc(C)c(/C=C2\\C(=O)Nc3ncnc(Nc4ccc(F)c(Cl)c4)...</td>\n",
              "      <td>active</td>\n",
              "    </tr>\n",
              "    <tr>\n",
              "      <th>1</th>\n",
              "      <td>CHEMBL69960</td>\n",
              "      <td>170.0</td>\n",
              "      <td>Cc1cc(C(=O)N2CCOCC2)[nH]c1/C=C1\\C(=O)Nc2ncnc(N...</td>\n",
              "      <td>active</td>\n",
              "    </tr>\n",
              "    <tr>\n",
              "      <th>2</th>\n",
              "      <td>CHEMBL137635</td>\n",
              "      <td>9300.0</td>\n",
              "      <td>CN(c1ccccc1)c1ncnc2ccc(N/N=N/Cc3ccccn3)cc12</td>\n",
              "      <td>intermediate</td>\n",
              "    </tr>\n",
              "    <tr>\n",
              "      <th>3</th>\n",
              "      <td>CHEMBL306988</td>\n",
              "      <td>500000.0</td>\n",
              "      <td>CC(=C(C#N)C#N)c1ccc(NC(=O)CCC(=O)O)cc1</td>\n",
              "      <td>inactive</td>\n",
              "    </tr>\n",
              "    <tr>\n",
              "      <th>4</th>\n",
              "      <td>CHEMBL66879</td>\n",
              "      <td>3000000.0</td>\n",
              "      <td>O=C(O)/C=C/c1ccc(O)cc1</td>\n",
              "      <td>inactive</td>\n",
              "    </tr>\n",
              "  </tbody>\n",
              "</table>\n",
              "</div>\n",
              "    <div class=\"colab-df-buttons\">\n",
              "\n",
              "  <div class=\"colab-df-container\">\n",
              "    <button class=\"colab-df-convert\" onclick=\"convertToInteractive('df-d0a31946-b137-4367-abaf-e00a21525014')\"\n",
              "            title=\"Convert this dataframe to an interactive table.\"\n",
              "            style=\"display:none;\">\n",
              "\n",
              "  <svg xmlns=\"http://www.w3.org/2000/svg\" height=\"24px\" viewBox=\"0 -960 960 960\">\n",
              "    <path d=\"M120-120v-720h720v720H120Zm60-500h600v-160H180v160Zm220 220h160v-160H400v160Zm0 220h160v-160H400v160ZM180-400h160v-160H180v160Zm440 0h160v-160H620v160ZM180-180h160v-160H180v160Zm440 0h160v-160H620v160Z\"/>\n",
              "  </svg>\n",
              "    </button>\n",
              "\n",
              "  <style>\n",
              "    .colab-df-container {\n",
              "      display:flex;\n",
              "      gap: 12px;\n",
              "    }\n",
              "\n",
              "    .colab-df-convert {\n",
              "      background-color: #E8F0FE;\n",
              "      border: none;\n",
              "      border-radius: 50%;\n",
              "      cursor: pointer;\n",
              "      display: none;\n",
              "      fill: #1967D2;\n",
              "      height: 32px;\n",
              "      padding: 0 0 0 0;\n",
              "      width: 32px;\n",
              "    }\n",
              "\n",
              "    .colab-df-convert:hover {\n",
              "      background-color: #E2EBFA;\n",
              "      box-shadow: 0px 1px 2px rgba(60, 64, 67, 0.3), 0px 1px 3px 1px rgba(60, 64, 67, 0.15);\n",
              "      fill: #174EA6;\n",
              "    }\n",
              "\n",
              "    .colab-df-buttons div {\n",
              "      margin-bottom: 4px;\n",
              "    }\n",
              "\n",
              "    [theme=dark] .colab-df-convert {\n",
              "      background-color: #3B4455;\n",
              "      fill: #D2E3FC;\n",
              "    }\n",
              "\n",
              "    [theme=dark] .colab-df-convert:hover {\n",
              "      background-color: #434B5C;\n",
              "      box-shadow: 0px 1px 3px 1px rgba(0, 0, 0, 0.15);\n",
              "      filter: drop-shadow(0px 1px 2px rgba(0, 0, 0, 0.3));\n",
              "      fill: #FFFFFF;\n",
              "    }\n",
              "  </style>\n",
              "\n",
              "    <script>\n",
              "      const buttonEl =\n",
              "        document.querySelector('#df-d0a31946-b137-4367-abaf-e00a21525014 button.colab-df-convert');\n",
              "      buttonEl.style.display =\n",
              "        google.colab.kernel.accessAllowed ? 'block' : 'none';\n",
              "\n",
              "      async function convertToInteractive(key) {\n",
              "        const element = document.querySelector('#df-d0a31946-b137-4367-abaf-e00a21525014');\n",
              "        const dataTable =\n",
              "          await google.colab.kernel.invokeFunction('convertToInteractive',\n",
              "                                                    [key], {});\n",
              "        if (!dataTable) return;\n",
              "\n",
              "        const docLinkHtml = 'Like what you see? Visit the ' +\n",
              "          '<a target=\"_blank\" href=https://colab.research.google.com/notebooks/data_table.ipynb>data table notebook</a>'\n",
              "          + ' to learn more about interactive tables.';\n",
              "        element.innerHTML = '';\n",
              "        dataTable['output_type'] = 'display_data';\n",
              "        await google.colab.output.renderOutput(dataTable, element);\n",
              "        const docLink = document.createElement('div');\n",
              "        docLink.innerHTML = docLinkHtml;\n",
              "        element.appendChild(docLink);\n",
              "      }\n",
              "    </script>\n",
              "  </div>\n",
              "\n",
              "\n",
              "    <div id=\"df-c255af67-55ca-48c0-add5-c52aaac80972\">\n",
              "      <button class=\"colab-df-quickchart\" onclick=\"quickchart('df-c255af67-55ca-48c0-add5-c52aaac80972')\"\n",
              "                title=\"Suggest charts\"\n",
              "                style=\"display:none;\">\n",
              "\n",
              "<svg xmlns=\"http://www.w3.org/2000/svg\" height=\"24px\"viewBox=\"0 0 24 24\"\n",
              "     width=\"24px\">\n",
              "    <g>\n",
              "        <path d=\"M19 3H5c-1.1 0-2 .9-2 2v14c0 1.1.9 2 2 2h14c1.1 0 2-.9 2-2V5c0-1.1-.9-2-2-2zM9 17H7v-7h2v7zm4 0h-2V7h2v10zm4 0h-2v-4h2v4z\"/>\n",
              "    </g>\n",
              "</svg>\n",
              "      </button>\n",
              "\n",
              "<style>\n",
              "  .colab-df-quickchart {\n",
              "      --bg-color: #E8F0FE;\n",
              "      --fill-color: #1967D2;\n",
              "      --hover-bg-color: #E2EBFA;\n",
              "      --hover-fill-color: #174EA6;\n",
              "      --disabled-fill-color: #AAA;\n",
              "      --disabled-bg-color: #DDD;\n",
              "  }\n",
              "\n",
              "  [theme=dark] .colab-df-quickchart {\n",
              "      --bg-color: #3B4455;\n",
              "      --fill-color: #D2E3FC;\n",
              "      --hover-bg-color: #434B5C;\n",
              "      --hover-fill-color: #FFFFFF;\n",
              "      --disabled-bg-color: #3B4455;\n",
              "      --disabled-fill-color: #666;\n",
              "  }\n",
              "\n",
              "  .colab-df-quickchart {\n",
              "    background-color: var(--bg-color);\n",
              "    border: none;\n",
              "    border-radius: 50%;\n",
              "    cursor: pointer;\n",
              "    display: none;\n",
              "    fill: var(--fill-color);\n",
              "    height: 32px;\n",
              "    padding: 0;\n",
              "    width: 32px;\n",
              "  }\n",
              "\n",
              "  .colab-df-quickchart:hover {\n",
              "    background-color: var(--hover-bg-color);\n",
              "    box-shadow: 0 1px 2px rgba(60, 64, 67, 0.3), 0 1px 3px 1px rgba(60, 64, 67, 0.15);\n",
              "    fill: var(--button-hover-fill-color);\n",
              "  }\n",
              "\n",
              "  .colab-df-quickchart-complete:disabled,\n",
              "  .colab-df-quickchart-complete:disabled:hover {\n",
              "    background-color: var(--disabled-bg-color);\n",
              "    fill: var(--disabled-fill-color);\n",
              "    box-shadow: none;\n",
              "  }\n",
              "\n",
              "  .colab-df-spinner {\n",
              "    border: 2px solid var(--fill-color);\n",
              "    border-color: transparent;\n",
              "    border-bottom-color: var(--fill-color);\n",
              "    animation:\n",
              "      spin 1s steps(1) infinite;\n",
              "  }\n",
              "\n",
              "  @keyframes spin {\n",
              "    0% {\n",
              "      border-color: transparent;\n",
              "      border-bottom-color: var(--fill-color);\n",
              "      border-left-color: var(--fill-color);\n",
              "    }\n",
              "    20% {\n",
              "      border-color: transparent;\n",
              "      border-left-color: var(--fill-color);\n",
              "      border-top-color: var(--fill-color);\n",
              "    }\n",
              "    30% {\n",
              "      border-color: transparent;\n",
              "      border-left-color: var(--fill-color);\n",
              "      border-top-color: var(--fill-color);\n",
              "      border-right-color: var(--fill-color);\n",
              "    }\n",
              "    40% {\n",
              "      border-color: transparent;\n",
              "      border-right-color: var(--fill-color);\n",
              "      border-top-color: var(--fill-color);\n",
              "    }\n",
              "    60% {\n",
              "      border-color: transparent;\n",
              "      border-right-color: var(--fill-color);\n",
              "    }\n",
              "    80% {\n",
              "      border-color: transparent;\n",
              "      border-right-color: var(--fill-color);\n",
              "      border-bottom-color: var(--fill-color);\n",
              "    }\n",
              "    90% {\n",
              "      border-color: transparent;\n",
              "      border-bottom-color: var(--fill-color);\n",
              "    }\n",
              "  }\n",
              "</style>\n",
              "\n",
              "      <script>\n",
              "        async function quickchart(key) {\n",
              "          const quickchartButtonEl =\n",
              "            document.querySelector('#' + key + ' button');\n",
              "          quickchartButtonEl.disabled = true;  // To prevent multiple clicks.\n",
              "          quickchartButtonEl.classList.add('colab-df-spinner');\n",
              "          try {\n",
              "            const charts = await google.colab.kernel.invokeFunction(\n",
              "                'suggestCharts', [key], {});\n",
              "          } catch (error) {\n",
              "            console.error('Error during call to suggestCharts:', error);\n",
              "          }\n",
              "          quickchartButtonEl.classList.remove('colab-df-spinner');\n",
              "          quickchartButtonEl.classList.add('colab-df-quickchart-complete');\n",
              "        }\n",
              "        (() => {\n",
              "          let quickchartButtonEl =\n",
              "            document.querySelector('#df-c255af67-55ca-48c0-add5-c52aaac80972 button');\n",
              "          quickchartButtonEl.style.display =\n",
              "            google.colab.kernel.accessAllowed ? 'block' : 'none';\n",
              "        })();\n",
              "      </script>\n",
              "    </div>\n",
              "\n",
              "    </div>\n",
              "  </div>\n"
            ],
            "application/vnd.google.colaboratory.intrinsic+json": {
              "type": "dataframe",
              "variable_name": "data",
              "summary": "{\n  \"name\": \"data\",\n  \"rows\": 2000,\n  \"fields\": [\n    {\n      \"column\": \"molecule_chembl_id\",\n      \"properties\": {\n        \"dtype\": \"string\",\n        \"num_unique_values\": 1536,\n        \"samples\": [\n          \"CHEMBL421686\",\n          \"CHEMBL69358\",\n          \"CHEMBL422758\"\n        ],\n        \"semantic_type\": \"\",\n        \"description\": \"\"\n      }\n    },\n    {\n      \"column\": \"standard_value\",\n      \"properties\": {\n        \"dtype\": \"category\",\n        \"num_unique_values\": 795,\n        \"samples\": [\n          \"24400.0\",\n          \"2300.0\",\n          \"55000.0\"\n        ],\n        \"semantic_type\": \"\",\n        \"description\": \"\"\n      }\n    },\n    {\n      \"column\": \"canonical_smiles\",\n      \"properties\": {\n        \"dtype\": \"string\",\n        \"num_unique_values\": 1536,\n        \"samples\": [\n          \"Cc1[nH]c2ncnc(NCc3ccccc3)c2c1C\",\n          \"CCN(CC)CCNC(=O)c1cc(C)c(/C=C2\\\\C(=O)Nc3ncnc(Nc4ccc(F)c(Cl)c4)c32)[nH]1\",\n          \"COc1cc2c(Nc3c(F)cc(Cl)cc3F)ncnc2cc1OCC1CCN(C)CC1\"\n        ],\n        \"semantic_type\": \"\",\n        \"description\": \"\"\n      }\n    },\n    {\n      \"column\": \"bioactivity_class\",\n      \"properties\": {\n        \"dtype\": \"category\",\n        \"num_unique_values\": 3,\n        \"samples\": [\n          \"active\",\n          \"intermediate\",\n          \"inactive\"\n        ],\n        \"semantic_type\": \"\",\n        \"description\": \"\"\n      }\n    }\n  ]\n}"
            }
          },
          "metadata": {},
          "execution_count": 75
        }
      ]
    },
    {
      "cell_type": "code",
      "source": [
        "data.isnull().sum()"
      ],
      "metadata": {
        "colab": {
          "base_uri": "https://localhost:8080/",
          "height": 210
        },
        "id": "1_MTZsszW3Ol",
        "outputId": "a98174e5-c317-4a40-bedf-b7ebf7999da1"
      },
      "execution_count": null,
      "outputs": [
        {
          "output_type": "execute_result",
          "data": {
            "text/plain": [
              "molecule_chembl_id    1\n",
              "standard_value        1\n",
              "canonical_smiles      1\n",
              "bioactivity_class     1\n",
              "dtype: int64"
            ],
            "text/html": [
              "<div>\n",
              "<style scoped>\n",
              "    .dataframe tbody tr th:only-of-type {\n",
              "        vertical-align: middle;\n",
              "    }\n",
              "\n",
              "    .dataframe tbody tr th {\n",
              "        vertical-align: top;\n",
              "    }\n",
              "\n",
              "    .dataframe thead th {\n",
              "        text-align: right;\n",
              "    }\n",
              "</style>\n",
              "<table border=\"1\" class=\"dataframe\">\n",
              "  <thead>\n",
              "    <tr style=\"text-align: right;\">\n",
              "      <th></th>\n",
              "      <th>0</th>\n",
              "    </tr>\n",
              "  </thead>\n",
              "  <tbody>\n",
              "    <tr>\n",
              "      <th>molecule_chembl_id</th>\n",
              "      <td>1</td>\n",
              "    </tr>\n",
              "    <tr>\n",
              "      <th>standard_value</th>\n",
              "      <td>1</td>\n",
              "    </tr>\n",
              "    <tr>\n",
              "      <th>canonical_smiles</th>\n",
              "      <td>1</td>\n",
              "    </tr>\n",
              "    <tr>\n",
              "      <th>bioactivity_class</th>\n",
              "      <td>1</td>\n",
              "    </tr>\n",
              "  </tbody>\n",
              "</table>\n",
              "</div><br><label><b>dtype:</b> int64</label>"
            ]
          },
          "metadata": {},
          "execution_count": 76
        }
      ]
    },
    {
      "cell_type": "markdown",
      "source": [
        "One missing value is still there, and it needs to be removed."
      ],
      "metadata": {
        "id": "NxEujUYBz2oL"
      }
    },
    {
      "cell_type": "code",
      "source": [
        "data = data.dropna()\n",
        "data.isnull().sum()"
      ],
      "metadata": {
        "colab": {
          "base_uri": "https://localhost:8080/",
          "height": 210
        },
        "id": "0OqgFcP4XRhG",
        "outputId": "4b9b2bb5-a696-465d-fb4c-08d2b03912e6"
      },
      "execution_count": null,
      "outputs": [
        {
          "output_type": "execute_result",
          "data": {
            "text/plain": [
              "molecule_chembl_id    0\n",
              "standard_value        0\n",
              "canonical_smiles      0\n",
              "bioactivity_class     0\n",
              "dtype: int64"
            ],
            "text/html": [
              "<div>\n",
              "<style scoped>\n",
              "    .dataframe tbody tr th:only-of-type {\n",
              "        vertical-align: middle;\n",
              "    }\n",
              "\n",
              "    .dataframe tbody tr th {\n",
              "        vertical-align: top;\n",
              "    }\n",
              "\n",
              "    .dataframe thead th {\n",
              "        text-align: right;\n",
              "    }\n",
              "</style>\n",
              "<table border=\"1\" class=\"dataframe\">\n",
              "  <thead>\n",
              "    <tr style=\"text-align: right;\">\n",
              "      <th></th>\n",
              "      <th>0</th>\n",
              "    </tr>\n",
              "  </thead>\n",
              "  <tbody>\n",
              "    <tr>\n",
              "      <th>molecule_chembl_id</th>\n",
              "      <td>0</td>\n",
              "    </tr>\n",
              "    <tr>\n",
              "      <th>standard_value</th>\n",
              "      <td>0</td>\n",
              "    </tr>\n",
              "    <tr>\n",
              "      <th>canonical_smiles</th>\n",
              "      <td>0</td>\n",
              "    </tr>\n",
              "    <tr>\n",
              "      <th>bioactivity_class</th>\n",
              "      <td>0</td>\n",
              "    </tr>\n",
              "  </tbody>\n",
              "</table>\n",
              "</div><br><label><b>dtype:</b> int64</label>"
            ]
          },
          "metadata": {},
          "execution_count": 77
        }
      ]
    },
    {
      "cell_type": "code",
      "source": [
        "data.shape"
      ],
      "metadata": {
        "colab": {
          "base_uri": "https://localhost:8080/"
        },
        "id": "OoKT-IZ8Ybxx",
        "outputId": "cb53c4cb-506b-4299-c423-ee5e47d067e1"
      },
      "execution_count": null,
      "outputs": [
        {
          "output_type": "execute_result",
          "data": {
            "text/plain": [
              "(1998, 4)"
            ]
          },
          "metadata": {},
          "execution_count": 78
        }
      ]
    },
    {
      "cell_type": "markdown",
      "source": [
        "To ensure that each compound in my dataset is unique, I removed duplicate entries based on their canonical SMILES:"
      ],
      "metadata": {
        "id": "R247T-cj0HS6"
      }
    },
    {
      "cell_type": "code",
      "source": [
        "data = data.drop_duplicates(subset='canonical_smiles', keep='first').reset_index(drop=True)"
      ],
      "metadata": {
        "id": "kCTQBMdCXgQ5"
      },
      "execution_count": null,
      "outputs": []
    },
    {
      "cell_type": "markdown",
      "source": [
        "This keeps only the first occurrence of each unique molecule and discards the rest, preventing biased model training due to repeated structures."
      ],
      "metadata": {
        "id": "crwnX3a-0S7l"
      }
    },
    {
      "cell_type": "code",
      "source": [
        "data.shape"
      ],
      "metadata": {
        "colab": {
          "base_uri": "https://localhost:8080/"
        },
        "id": "egCl3zZ4X7mQ",
        "outputId": "2cbff77c-62f4-4313-cb3a-9eda66a4a43f"
      },
      "execution_count": null,
      "outputs": [
        {
          "output_type": "execute_result",
          "data": {
            "text/plain": [
              "(1535, 4)"
            ]
          },
          "metadata": {},
          "execution_count": 80
        }
      ]
    },
    {
      "cell_type": "code",
      "source": [
        "data.duplicated(subset='canonical_smiles').sum()"
      ],
      "metadata": {
        "colab": {
          "base_uri": "https://localhost:8080/"
        },
        "id": "kiQpRNIXZFpq",
        "outputId": "225d0c75-50f7-426b-ae3b-74fc5cc84ea2"
      },
      "execution_count": null,
      "outputs": [
        {
          "output_type": "execute_result",
          "data": {
            "text/plain": [
              "np.int64(0)"
            ]
          },
          "metadata": {},
          "execution_count": 83
        }
      ]
    },
    {
      "cell_type": "markdown",
      "source": [
        "No duplication now."
      ],
      "metadata": {
        "id": "Yrf_zvSq0XDm"
      }
    },
    {
      "cell_type": "markdown",
      "source": [
        "Finally, I saved the cleaned and annotated dataset to a CSV file for downstream analysis:"
      ],
      "metadata": {
        "id": "hCIPhxCH0vv7"
      }
    },
    {
      "cell_type": "code",
      "source": [
        "data.to_csv(\"preprocessed_bioactivity_data.csv\", index=False)"
      ],
      "metadata": {
        "id": "162GcmXXZUBI"
      },
      "execution_count": null,
      "outputs": []
    },
    {
      "cell_type": "markdown",
      "source": [
        "This file contains unique compounds with their ChEMBL IDs, IC50 values, bioactivity classes, and canonical SMILES, ready for feature extraction and model building in the next steps."
      ],
      "metadata": {
        "id": "E7u4Adwp0wkZ"
      }
    }
  ]
}